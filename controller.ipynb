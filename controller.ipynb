{
 "cells": [
  {
   "attachments": {},
   "cell_type": "markdown",
   "metadata": {},
   "source": [
    "# Controller\n",
    "\n",
    "After choosing the power rating for our controller and our desired feature set, we can finally choose the main controller we will be basing it around.\n",
    "\n",
    "After a little bit of searching, I settled on the [STSPIN32F0](https://www.st.com/en/motor-drivers/stspin32f0.html).\n",
    "\n",
    "![](https://blog.st.com/wp-content/uploads/RS6488_STSPIN32F0_QFN_7x7_48L_TOP-AND-REAR-hpr.jpg)\n",
    "\n",
    "Its an IC designed for BLDC motor controller with a bunch of helpful features for our controller.\n",
    "* It is based around a [STM32F031C6](https://www.st.com/en/microcontrollers-microprocessors/stm32f031c6.html) which is an easy to work with, high-performance MCU\n",
    "* Its operating range is 8V to 45V which matches our 40V target\n",
    "* It has built-in 3 phase gate drivers which can source/sink 600mA at 12V making it easy to drive big power mosfets\n",
    "* It has a built-in boostbuck converter and LDO for powering external devices and gate drivers saving regulation circuitry\n",
    "* It has timers we can use to read quadrature encoders\n",
    "* It has built in Op-amps and ADCs for the current sensing required for FOC\n",
    "* It has a USART interface so we can talk to it\n",
    "\n",
    "The very oversimplified layout of our board will be:\n",
    "```\n",
    "    Step-Dir\n",
    "        ↓\n",
    "USB -> MCU -> Gate Drivers -> Half-Bridges -> Motor\n",
    "```\n",
    "\n",
    "The STSPIN makes a good portion of this much easier."
   ]
  },
  {
   "attachments": {},
   "cell_type": "markdown",
   "metadata": {},
   "source": [
    "## Guides\n",
    "A lot of the entires in the STSPIN datasheet are a little vague. I've found that the eval board [STEVAL-SPIN3201](https://www.st.com/en/evaluation-tools/steval-spin3201.html) and the guides associated with hit have helped a lot. The guides in particular go over crucial details about layout and component selection that will become important later.\n"
   ]
  }
 ],
 "metadata": {
  "kernelspec": {
   "display_name": "venv",
   "language": "python",
   "name": "python3"
  },
  "language_info": {
   "name": "python",
   "version": "3.11.0 (main, Oct 24 2022, 18:26:48) [MSC v.1933 64 bit (AMD64)]"
  },
  "orig_nbformat": 4,
  "vscode": {
   "interpreter": {
    "hash": "c42d2cfff8ae0f6103b939e8d4a4576bbdb1c92a9bbd1df22ee124952b481b25"
   }
  }
 },
 "nbformat": 4,
 "nbformat_minor": 2
}
