{
 "cells": [
  {
   "attachments": {},
   "cell_type": "markdown",
   "metadata": {},
   "source": [
    "# USB Interface\n",
    "[https://www.st.com/resource/en/application_note/an5123-stspin32f0-family--bootloader-and-usart-protocol-stmicroelectronics.pdf](https://www.st.com/resource/en/application_note/an5123-stspin32f0-family--bootloader-and-usart-protocol-stmicroelectronics.pdf)"
   ]
  },
  {
   "attachments": {},
   "cell_type": "markdown",
   "metadata": {},
   "source": [
    "The easiest way to interface with the board is a usb connector. The STSPIN doesn't have a native \"USB\" like interface but it does have USART so we can use an FTDI chip to act as as a bridge between the USB 2.0 connection and the USART interface of the STSPIN.\n",
    "\n",
    "Note that USART is similar to UART but requires a clock signal allowing it to reach faster speeds: [https://fastbitlab.com/introduction-uart-vs-usart/](https://fastbitlab.com/introduction-uart-vs-usart/) We don't really care about that since this is just for configuration and USART is backwards compatible with UART so we will just use UART."
   ]
  },
  {
   "attachments": {},
   "cell_type": "markdown",
   "metadata": {},
   "source": [
    "### Design Requirements\n",
    "My main design requirements were:\n",
    "1. Needs to use a USB-C port (All my homies hate micro USB)\n",
    "2. USB 2.0 Compatible (Again, don't really care about high speeds)\n",
    "3. Compact (Don't want it taking up a ton of space on the board)"
   ]
  },
  {
   "attachments": {},
   "cell_type": "markdown",
   "metadata": {},
   "source": [
    "### Component Selection\n",
    "Component selection was fairly straightforward with those requirements. I chose the [FT234XD](http://www.ftdichip.com/Support/Documents/DataSheets/ICs/DS_FT234XD.pdf) for the FTDI bridge which does most of the work for me.\n",
    "\n",
    "The USB-C port was also fairly straightforward, just make sure to select one with support for data pins (usually called 24-pin, the 6-pin are power only). I chose the [Molex 204711-0001](https://www.molex.com/molex/products/part-detail/io_connectors/2047110001) because it was vertical mount and had a footprint on Altium."
   ]
  },
  {
   "attachments": {},
   "cell_type": "markdown",
   "metadata": {},
   "source": [
    "### Circuit Design\n",
    "The schematic was fairly straightforward with only a couple tricky parts.\n",
    "\n",
    "The main decision I had to make was how to power the controller. For now I referenced the self-powered configuration on the FT234XD datasheet, this means that that the controller has to be plugged into a supply (powering the STSPIN) for the controller to work. It would be nicer to have a power switching circuit to switch to USB bus power when not connected to a power source and there are some power switch ICs (ex. [LTC4417](https://www.analog.com/en/products/ltc4417.html#product-overview)) but I decided it was not worth the implementation effort and space.\n",
    "\n",
    "A couple things to note with USB-C in the schematic are:\n",
    "* Make sure to route USB D+ and D- as a **differential pair** as they are a differential signal\n",
    "\n",
    "* CC1 and CC2 are called the configuration channel pins, they can be used to detect the direction the connector was plugged in and indicate how much current the device can sink. We don't care about connector orientation and technically aren't sinking any current from the USB-C port but the [spec](https://www.usb.org/sites/default/files/USB%20Type-C%20Spec%20R2.0%20-%20August%202019.pdf) (Table 3-19 Note 1) requires the pins to not be floating so we pull them down with a $5.1 k\\Omega$ resistor.\n",
    "\n",
    "* The USB-C connector shield should be grounded (sometimes called the MNT pins). I grounded them through a $1 M\\Omega$ resistor for now by recommendation of some [online sources](https://electronics.stackexchange.com/questions/4515/how-to-connect-usb-connector-shield) but need to look into it more.\n",
    "\n",
    "USB-C pinout:\n",
    "![](https://www.allaboutcircuits.com/uploads/articles/Fig1m11292018.png) *https://www.allaboutcircuits.com/uploads/articles/Fig1m11292018.png*\n",
    "\n",
    "\n",
    "\n"
   ]
  }
 ],
 "metadata": {
  "kernelspec": {
   "display_name": "Python 3",
   "language": "python",
   "name": "python3"
  },
  "language_info": {
   "name": "python",
   "version": "3.11.0 (main, Oct 24 2022, 18:26:48) [MSC v.1933 64 bit (AMD64)]"
  },
  "orig_nbformat": 4,
  "vscode": {
   "interpreter": {
    "hash": "c261aea317cc0286b3b3261fbba9abdec21eaa57589985bb7a274bf54d6cc0a7"
   }
  }
 },
 "nbformat": 4,
 "nbformat_minor": 2
}
